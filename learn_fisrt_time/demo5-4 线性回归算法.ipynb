{
 "cells": [
  {
   "cell_type": "code",
   "execution_count": 3,
   "metadata": {},
   "outputs": [],
   "source": [
    "import pandas as pd\n",
    "from sklearn.linear_model import LinearRegression\n",
    "path = 'tmp/iris_'"
   ]
  },
  {
   "cell_type": "code",
   "execution_count": 2,
   "metadata": {},
   "outputs": [],
   "source": [
    "x_train = pd.read_csv(path+'xtrain.csv',index_col=False)\n",
    "y_train = pd.read_csv(path+'ytrain.csv',index_col=False)"
   ]
  },
  {
   "cell_type": "code",
   "execution_count": 4,
   "metadata": {},
   "outputs": [],
   "source": [
    "# 建模\n",
    "def mx_line(train_x,train_y):\n",
    "    mx = LinearRegression()\n",
    "    mx.fit(train_x,train_y)\n",
    "    return mx"
   ]
  },
  {
   "cell_type": "code",
   "execution_count": 6,
   "metadata": {},
   "outputs": [],
   "source": [
    "mx = mx_line(x_train.values,y_train.values)"
   ]
  },
  {
   "cell_type": "code",
   "execution_count": 7,
   "metadata": {
    "scrolled": true
   },
   "outputs": [
    {
     "name": "stdout",
     "output_type": "stream",
     "text": [
      "     x1   x2   x3   x4\n",
      "33  6.4  2.8  5.6  2.1\n",
      "34  5.8  2.8  5.1  2.4\n",
      "35  5.3  3.7  1.5  0.2\n",
      "36  5.5  2.3  4.0  1.3\n",
      "37  5.2  3.4  1.4  0.2\n"
     ]
    }
   ],
   "source": [
    "x_test = pd.read_csv(path+'xtest.csv',index_col=False)\n",
    "df9 = x_test.copy()\n",
    "print(x_test.tail())"
   ]
  },
  {
   "cell_type": "code",
   "execution_count": 8,
   "metadata": {},
   "outputs": [],
   "source": [
    "# 预测\n",
    "y_pred = mx.predict(x_test.values)\n",
    "df9['y_predsr'] = y_pred"
   ]
  },
  {
   "cell_type": "code",
   "execution_count": 9,
   "metadata": {},
   "outputs": [
    {
     "name": "stdout",
     "output_type": "stream",
     "text": [
      "    xid\n",
      "33    1\n",
      "34    1\n",
      "35    2\n",
      "36    3\n",
      "37    2\n"
     ]
    }
   ],
   "source": [
    "y_test = pd.read_csv(path+'ytest.csv',index_col=False)\n",
    "print(y_test.tail())"
   ]
  },
  {
   "cell_type": "code",
   "execution_count": 10,
   "metadata": {},
   "outputs": [
    {
     "name": "stdout",
     "output_type": "stream",
     "text": [
      "     x1   x2   x3   x4  y_predsr\n",
      "33  6.4  2.8  5.6  2.1  1.547757\n",
      "34  5.8  2.8  5.1  2.4  1.196418\n",
      "35  5.3  3.7  1.5  0.2  2.102571\n",
      "36  5.5  2.3  4.0  1.3  2.323755\n",
      "37  5.2  3.4  1.4  0.2  2.311133\n"
     ]
    }
   ],
   "source": [
    "print(df9.tail())"
   ]
  },
  {
   "cell_type": "code",
   "execution_count": 12,
   "metadata": {
    "scrolled": true
   },
   "outputs": [
    {
     "name": "stdout",
     "output_type": "stream",
     "text": [
      "     x1   x2   x3   x4  y_predsr  y_test  y_pred\n",
      "33  6.4  2.8  5.6  2.1  1.547757       1       1\n",
      "34  5.8  2.8  5.1  2.4  1.196418       1       1\n",
      "35  5.3  3.7  1.5  0.2  2.102571       2       2\n",
      "36  5.5  2.3  4.0  1.3  2.323755       3       2\n",
      "37  5.2  3.4  1.4  0.2  2.311133       2       2\n"
     ]
    }
   ],
   "source": [
    "df9['y_test'],df9['y_pred'] = y_test,y_pred\n",
    "df9['y_pred'] = round(df9['y_predsr'].astype(int))\n",
    "df9.to_csv(path+'demo5_4_result.csv',index=False)\n",
    "print(df9.tail())"
   ]
  }
 ],
 "metadata": {
  "kernelspec": {
   "display_name": "Python 3",
   "language": "python",
   "name": "python3"
  },
  "language_info": {
   "codemirror_mode": {
    "name": "ipython",
    "version": 3
   },
   "file_extension": ".py",
   "mimetype": "text/x-python",
   "name": "python",
   "nbconvert_exporter": "python",
   "pygments_lexer": "ipython3",
   "version": "3.6.6"
  }
 },
 "nbformat": 4,
 "nbformat_minor": 2
}
