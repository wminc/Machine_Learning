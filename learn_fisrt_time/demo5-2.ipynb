{
 "cells": [
  {
   "cell_type": "code",
   "execution_count": 12,
   "metadata": {},
   "outputs": [],
   "source": [
    "import pandas as pd\n",
    "\n",
    "df = pd.read_csv('data/iris.csv',index_col=False)"
   ]
  },
  {
   "cell_type": "code",
   "execution_count": 15,
   "metadata": {
    "scrolled": true
   },
   "outputs": [
    {
     "name": "stdout",
     "output_type": "stream",
     "text": [
      "Index(['x1', 'x2', 'x3', 'x4', 'xname'], dtype='object')\n",
      "Index(['x1', 'x2', 'x3', 'x4', 'xname'], dtype='object')\n",
      "      x1   x2   x3   x4      xname\n",
      "145  6.7  3.0  5.2  2.3  virginica\n",
      "146  6.3  2.5  5.0  1.9  virginica\n",
      "147  6.5  3.0  5.2  2.0  virginica\n",
      "148  6.2  3.4  5.4  2.3  virginica\n",
      "149  5.9  3.0  5.1  1.8  virginica\n"
     ]
    }
   ],
   "source": [
    "print(df.columns)\n",
    "# 修改列索引\n",
    "df.columns = [\"x1\",\"x2\",\"x3\",\"x4\",\"xname\"]\n",
    "print(df.columns)\n",
    "print(df.tail())"
   ]
  },
  {
   "cell_type": "code",
   "execution_count": 19,
   "metadata": {},
   "outputs": [],
   "source": [
    "df.loc[df[\"xname\"]=='virginica','xid']=1\n",
    "df.loc[df[\"xname\"]=='setosa','xid'] = 2\n",
    "df.loc[df[\"xname\"]=='versicolor','xid']=3\n",
    "df['xid'] = df['xid'].astype(int)\n",
    "df.to_csv('tmp/iris2.csv',index=False)"
   ]
  },
  {
   "cell_type": "code",
   "execution_count": 20,
   "metadata": {
    "scrolled": true
   },
   "outputs": [
    {
     "name": "stdout",
     "output_type": "stream",
     "text": [
      "      x1   x2   x3   x4      xname  xid\n",
      "145  6.7  3.0  5.2  2.3  virginica    1\n",
      "146  6.3  2.5  5.0  1.9  virginica    1\n",
      "147  6.5  3.0  5.2  2.0  virginica    1\n",
      "148  6.2  3.4  5.4  2.3  virginica    1\n",
      "149  5.9  3.0  5.1  1.8  virginica    1\n"
     ]
    }
   ],
   "source": [
    "print(df.tail())"
   ]
  },
  {
   "cell_type": "code",
   "execution_count": 21,
   "metadata": {
    "scrolled": true
   },
   "outputs": [
    {
     "name": "stdout",
     "output_type": "stream",
     "text": [
      "               x1          x2          x3          x4         xid\n",
      "count  150.000000  150.000000  150.000000  150.000000  150.000000\n",
      "mean     5.843333    3.057333    3.758000    1.199333    2.000000\n",
      "std      0.828066    0.435866    1.765298    0.762238    0.819232\n",
      "min      4.300000    2.000000    1.000000    0.100000    1.000000\n",
      "25%      5.100000    2.800000    1.600000    0.300000    1.000000\n",
      "50%      5.800000    3.000000    4.350000    1.300000    2.000000\n",
      "75%      6.400000    3.300000    5.100000    1.800000    3.000000\n",
      "max      7.900000    4.400000    6.900000    2.500000    3.000000\n"
     ]
    }
   ],
   "source": [
    "print(df.describe())"
   ]
  },
  {
   "cell_type": "code",
   "execution_count": 23,
   "metadata": {
    "scrolled": true
   },
   "outputs": [
    {
     "name": "stdout",
     "output_type": "stream",
     "text": [
      "versicolor    50\n",
      "setosa        50\n",
      "virginica     50\n",
      "Name: xname, dtype: int64\n"
     ]
    }
   ],
   "source": [
    "d10 = df['xname'].value_counts()\n",
    "print(d10)"
   ]
  },
  {
   "cell_type": "code",
   "execution_count": 24,
   "metadata": {},
   "outputs": [
    {
     "name": "stdout",
     "output_type": "stream",
     "text": [
      "3    50\n",
      "2    50\n",
      "1    50\n",
      "Name: xid, dtype: int64\n"
     ]
    }
   ],
   "source": [
    "d10 = df['xid'].value_counts()\n",
    "print(d10)"
   ]
  }
 ],
 "metadata": {
  "kernelspec": {
   "display_name": "Python 3",
   "language": "python",
   "name": "python3"
  },
  "language_info": {
   "codemirror_mode": {
    "name": "ipython",
    "version": 3
   },
   "file_extension": ".py",
   "mimetype": "text/x-python",
   "name": "python",
   "nbconvert_exporter": "python",
   "pygments_lexer": "ipython3",
   "version": "3.6.6"
  }
 },
 "nbformat": 4,
 "nbformat_minor": 2
}
