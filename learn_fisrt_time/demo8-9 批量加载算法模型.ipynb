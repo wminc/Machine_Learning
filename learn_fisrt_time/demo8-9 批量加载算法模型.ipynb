{
 "cells": [
  {
   "cell_type": "code",
   "execution_count": 1,
   "metadata": {},
   "outputs": [],
   "source": [
    "import api"
   ]
  },
  {
   "cell_type": "code",
   "execution_count": 2,
   "metadata": {},
   "outputs": [],
   "source": [
    "fsr0 = 'tmp/ccpp_'\n",
    "x_train, x_test, y_train, y_test = api.ai_dat_rd(fsr0)\n",
    "\n",
    "mxlst = ['line','log','bayes','knn']\n",
    "ftg0 = 'tmp/ccpp_'\n",
    "\n",
    "x_test = api.ai_f_datRd010(fsr0+'xtest.csv')\n",
    "y_test = api.ai_f_datRd010(fsr0+'ytest.csv',1)\n",
    "\n",
    "api.xmodel={}\n",
    "api.ai_f_mxRdlst(fsr0,mxlst)"
   ]
  },
  {
   "cell_type": "code",
   "execution_count": 3,
   "metadata": {},
   "outputs": [
    {
     "name": "stdout",
     "output_type": "stream",
     "text": [
      "line 99.95819397993311\n",
      "log 99.66555183946488\n",
      "bayes 99.83277591973244\n",
      "knn 99.49832775919732\n"
     ]
    }
   ],
   "source": [
    "api.mx_funlst8mx(mxlst,x_test,y_test,yk0=5,fgInt=False)"
   ]
  }
 ],
 "metadata": {
  "kernelspec": {
   "display_name": "Python 3",
   "language": "python",
   "name": "python3"
  },
  "language_info": {
   "codemirror_mode": {
    "name": "ipython",
    "version": 3
   },
   "file_extension": ".py",
   "mimetype": "text/x-python",
   "name": "python",
   "nbconvert_exporter": "python",
   "pygments_lexer": "ipython3",
   "version": "3.6.6"
  }
 },
 "nbformat": 4,
 "nbformat_minor": 2
}
