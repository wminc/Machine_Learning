{
 "cells": [
  {
   "cell_type": "code",
   "execution_count": 1,
   "metadata": {},
   "outputs": [],
   "source": [
    "import api\n",
    "from sklearn.externals import joblib"
   ]
  },
  {
   "cell_type": "code",
   "execution_count": 2,
   "metadata": {},
   "outputs": [],
   "source": [
    "fsr0 = 'tmp/ccpp_'\n",
    "x_train, x_test, y_train, y_test = api.ai_dat_rd(fsr0)\n",
    "\n",
    "xlst,ysgn = ['AT','V','AP','RH'],'PE'\n",
    "\n",
    "funSgn,ftg = 'svm','tmp/ccpp_svm.pkl'"
   ]
  },
  {
   "cell_type": "code",
   "execution_count": 3,
   "metadata": {},
   "outputs": [
    {
     "name": "stderr",
     "output_type": "stream",
     "text": [
      "d:\\soft\\_env\\python36\\lib\\site-packages\\sklearn\\utils\\validation.py:752: DataConversionWarning: A column-vector y was passed when a 1d array was expected. Please change the shape of y to (n_samples, ), for example using ravel().\n",
      "  y = column_or_1d(y, warn=True)\n",
      "d:\\soft\\_env\\python36\\lib\\site-packages\\sklearn\\svm\\base.py:196: FutureWarning: The default value of gamma will change from 'auto' to 'scale' in version 0.22 to account better for unscaled features. Set gamma explicitly to 'auto' or 'scale' to avoid this warning.\n",
      "  \"avoid this warning.\", FutureWarning)\n"
     ]
    }
   ],
   "source": [
    "api.ai_f_mxWr(ftg,funSgn,x_train,y_train)"
   ]
  },
  {
   "cell_type": "code",
   "execution_count": 3,
   "metadata": {},
   "outputs": [
    {
     "data": {
      "text/plain": [
       "(96.40468227424749,\n",
       "          AT      V       AP     RH  y_test  y_pred  y_predsr  ysub  ysub2  \\\n",
       " 0     17.80  43.72  1008.71  78.50     459     454       454     5      5   \n",
       " 1     29.60  71.14  1011.46  52.69     431     432       432    -1      1   \n",
       " 2     11.06  36.71  1021.67  80.44     474     474       474     0      0   \n",
       " 3     30.06  67.25  1017.63  53.59     435     434       434     1      1   \n",
       " 4     19.88  47.03  1012.27  91.99     456     441       441    15     15   \n",
       " ...     ...    ...      ...    ...     ...     ...       ...   ...    ...   \n",
       " 2387  26.34  69.45  1013.87  54.15     438     435       435     3      3   \n",
       " 2388  25.06  64.63  1020.66  54.93     447     450       450    -3      3   \n",
       " 2389   8.34  40.96  1023.28  89.45     484     475       475     9      9   \n",
       " 2390  26.69  70.36  1006.82  68.29     435     435       435     0      0   \n",
       " 2391  17.46  53.29  1018.07  91.01     458     441       441    17     17   \n",
       " \n",
       "       y_test_div     ysubk  \n",
       " 0          459.0  1.089325  \n",
       " 1          431.0  0.232019  \n",
       " 2          474.0  0.000000  \n",
       " 3          435.0  0.229885  \n",
       " 4          456.0  3.289474  \n",
       " ...          ...       ...  \n",
       " 2387       438.0  0.684932  \n",
       " 2388       447.0  0.671141  \n",
       " 2389       484.0  1.859504  \n",
       " 2390       435.0  0.000000  \n",
       " 2391       458.0  3.711790  \n",
       " \n",
       " [2392 rows x 11 columns])"
      ]
     },
     "execution_count": 3,
     "metadata": {},
     "output_type": "execute_result"
    }
   ],
   "source": [
    "mx = joblib.load(ftg)\n",
    "\n",
    "api.mx_fun8mx(mx,x_test,y_test)"
   ]
  }
 ],
 "metadata": {
  "kernelspec": {
   "display_name": "Python 3",
   "language": "python",
   "name": "python3"
  },
  "language_info": {
   "codemirror_mode": {
    "name": "ipython",
    "version": 3
   },
   "file_extension": ".py",
   "mimetype": "text/x-python",
   "name": "python",
   "nbconvert_exporter": "python",
   "pygments_lexer": "ipython3",
   "version": "3.6.6"
  }
 },
 "nbformat": 4,
 "nbformat_minor": 2
}
