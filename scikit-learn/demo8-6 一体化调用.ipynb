{
 "cells": [
  {
   "cell_type": "code",
   "execution_count": 1,
   "metadata": {},
   "outputs": [],
   "source": [
    "import pandas as pd\n",
    "import api"
   ]
  },
  {
   "cell_type": "code",
   "execution_count": 2,
   "metadata": {},
   "outputs": [],
   "source": [
    "xlst,ysgn = ['AT','V','AP','RH'],'PE'\n",
    "df = pd.read_csv('data/ccpp.csv',index_col=False)"
   ]
  },
  {
   "cell_type": "code",
   "execution_count": 3,
   "metadata": {},
   "outputs": [
    {
     "data": {
      "text/plain": [
       "(99.95819397993311,\n",
       "          AT      V       AP     RH  y_test      y_pred      ysub     ysub2  \\\n",
       " 5014  17.80  43.72  1008.71  78.50     459  459.333058 -0.333058  0.333058   \n",
       " 6947  29.60  71.14  1011.46  52.69     431  433.924755 -2.924755  2.924755   \n",
       " 9230  11.06  36.71  1021.67  80.44     474  474.852710 -0.852710  0.852710   \n",
       " 4290  30.06  67.25  1017.63  53.59     435  434.206537  0.793463  0.793463   \n",
       " 6477  19.88  47.03  1012.27  91.99     456  452.572842  3.427158  3.427158   \n",
       " ...     ...    ...      ...    ...     ...         ...       ...       ...   \n",
       " 3854  26.34  69.45  1013.87  54.15     438  440.686789 -2.686789  2.686789   \n",
       " 4785  25.06  64.63  1020.66  54.93     447  444.680345  2.319655  2.319655   \n",
       " 6406   8.34  40.96  1023.28  89.45     484  477.917924  6.082076  6.082076   \n",
       " 175   26.69  70.36  1006.82  68.29     435  437.065692 -2.065692  2.065692   \n",
       " 7687  17.46  53.29  1018.07  91.01     458  456.443839  1.556161  1.556161   \n",
       " \n",
       "       y_test_div     ysubk  \n",
       " 5014       459.0  0.072562  \n",
       " 6947       431.0  0.678597  \n",
       " 9230       474.0  0.179897  \n",
       " 4290       435.0  0.182405  \n",
       " 6477       456.0  0.751570  \n",
       " ...          ...       ...  \n",
       " 3854       438.0  0.613422  \n",
       " 4785       447.0  0.518939  \n",
       " 6406       484.0  1.256627  \n",
       " 175        435.0  0.474872  \n",
       " 7687       458.0  0.339773  \n",
       " \n",
       " [2392 rows x 10 columns])"
      ]
     },
     "execution_count": 3,
     "metadata": {},
     "output_type": "execute_result"
    }
   ],
   "source": [
    "funsgn = 'line'\n",
    "api.mx_fun_call(df,xlst,ysgn,funsgn)"
   ]
  }
 ],
 "metadata": {
  "kernelspec": {
   "display_name": "Python 3",
   "language": "python",
   "name": "python3"
  },
  "language_info": {
   "codemirror_mode": {
    "name": "ipython",
    "version": 3
   },
   "file_extension": ".py",
   "mimetype": "text/x-python",
   "name": "python",
   "nbconvert_exporter": "python",
   "pygments_lexer": "ipython3",
   "version": "3.6.6"
  }
 },
 "nbformat": 4,
 "nbformat_minor": 2
}
