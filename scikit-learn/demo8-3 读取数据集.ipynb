{
 "cells": [
  {
   "cell_type": "code",
   "execution_count": 1,
   "metadata": {},
   "outputs": [],
   "source": [
    "import pandas as pd\n",
    "import api"
   ]
  },
  {
   "cell_type": "code",
   "execution_count": 4,
   "metadata": {
    "scrolled": true
   },
   "outputs": [
    {
     "name": "stdout",
     "output_type": "stream",
     "text": [
      "         AT      V       AP     RH\n",
      "7171  29.39  71.14  1010.97  53.88\n",
      "7172  25.65  78.92  1010.83  86.56\n",
      "7173  10.22  39.64  1010.72  63.05\n",
      "7174  20.32  44.60  1015.16  36.35\n",
      "7175  17.37  41.23   998.79  68.44\n",
      "-------------\n",
      "       PE\n",
      "7171  430\n",
      "7172  435\n",
      "7173  477\n",
      "7174  460\n",
      "7175  461\n",
      "-------------\n",
      "         AT      V       AP     RH\n",
      "2387  26.34  69.45  1013.87  54.15\n",
      "2388  25.06  64.63  1020.66  54.93\n",
      "2389   8.34  40.96  1023.28  89.45\n",
      "2390  26.69  70.36  1006.82  68.29\n",
      "2391  17.46  53.29  1018.07  91.01\n",
      "-------------\n",
      "       PE\n",
      "2387  438\n",
      "2388  447\n",
      "2389  484\n",
      "2390  435\n",
      "2391  458\n"
     ]
    }
   ],
   "source": [
    "fsr0 = 'tmp/ccpp_'\n",
    "k0=1\n",
    "x_train, x_test, y_train, y_test = api.ai_dat_rd(fsr0,k0,True)"
   ]
  },
  {
   "cell_type": "code",
   "execution_count": 5,
   "metadata": {},
   "outputs": [
    {
     "name": "stdout",
     "output_type": "stream",
     "text": [
      "         AT      V       AP     RH\n",
      "7171  29.39  71.14  1010.97  53.88\n",
      "7172  25.65  78.92  1010.83  86.56\n",
      "7173  10.22  39.64  1010.72  63.05\n",
      "7174  20.32  44.60  1015.16  36.35\n",
      "7175  17.37  41.23   998.79  68.44\n",
      "-------------\n",
      "        PE\n",
      "7171  4305\n",
      "7172  4348\n",
      "7173  4772\n",
      "7174  4602\n",
      "7175  4611\n",
      "-------------\n",
      "         AT      V       AP     RH\n",
      "2387  26.34  69.45  1013.87  54.15\n",
      "2388  25.06  64.63  1020.66  54.93\n",
      "2389   8.34  40.96  1023.28  89.45\n",
      "2390  26.69  70.36  1006.82  68.29\n",
      "2391  17.46  53.29  1018.07  91.01\n",
      "-------------\n",
      "        PE\n",
      "2387  4385\n",
      "2388  4466\n",
      "2389  4839\n",
      "2390  4350\n",
      "2391  4581\n"
     ]
    }
   ],
   "source": [
    "k0=10\n",
    "x_train, x_test, y_train, y_test = api.ai_dat_rd(fsr0,k0,True)"
   ]
  }
 ],
 "metadata": {
  "kernelspec": {
   "display_name": "Python 3",
   "language": "python",
   "name": "python3"
  },
  "language_info": {
   "codemirror_mode": {
    "name": "ipython",
    "version": 3
   },
   "file_extension": ".py",
   "mimetype": "text/x-python",
   "name": "python",
   "nbconvert_exporter": "python",
   "pygments_lexer": "ipython3",
   "version": "3.6.6"
  }
 },
 "nbformat": 4,
 "nbformat_minor": 2
}
