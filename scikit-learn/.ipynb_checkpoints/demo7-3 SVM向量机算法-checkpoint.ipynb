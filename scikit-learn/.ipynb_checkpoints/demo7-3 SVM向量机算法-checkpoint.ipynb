{
 "cells": [
  {
   "cell_type": "code",
   "execution_count": 1,
   "metadata": {
    "scrolled": true
   },
   "outputs": [
    {
     "name": "stderr",
     "output_type": "stream",
     "text": [
      "d:\\soft\\_env\\python36\\lib\\importlib\\_bootstrap.py:219: RuntimeWarning: numpy.ufunc size changed, may indicate binary incompatibility. Expected 192 from C header, got 216 from PyObject\n",
      "  return f(*args, **kwds)\n",
      "d:\\soft\\_env\\python36\\lib\\importlib\\_bootstrap.py:219: RuntimeWarning: numpy.ufunc size changed, may indicate binary incompatibility. Expected 192 from C header, got 216 from PyObject\n",
      "  return f(*args, **kwds)\n"
     ]
    }
   ],
   "source": [
    "import pandas as pd\n",
    "from sklearn.svm import SVC"
   ]
  },
  {
   "cell_type": "code",
   "execution_count": 2,
   "metadata": {},
   "outputs": [],
   "source": [
    "path = 'tmp/iris_'\n",
    "\n",
    "x_train = pd.read_csv(path+'xtrain.csv',index_col=False)\n",
    "y_train = pd.read_csv(path+'ytrain.csv',index_col=False)\n",
    "x_test = pd.read_csv(path+'xtest.csv',index_col=False)\n",
    "y_test = pd.read_csv(path+'ytest.csv',index_col=False)\n",
    "df9 = x_test.copy()"
   ]
  },
  {
   "cell_type": "code",
   "execution_count": 3,
   "metadata": {},
   "outputs": [],
   "source": [
    "def mx_SVM(train_x,train_y):\n",
    "    mx = SVC(kernel='rbf',probability=True)\n",
    "    mx.fit(train_x,train_y)\n",
    "    return mx"
   ]
  },
  {
   "cell_type": "code",
   "execution_count": 4,
   "metadata": {
    "scrolled": true
   },
   "outputs": [
    {
     "name": "stderr",
     "output_type": "stream",
     "text": [
      "d:\\soft\\_env\\python36\\lib\\site-packages\\sklearn\\utils\\validation.py:752: DataConversionWarning: A column-vector y was passed when a 1d array was expected. Please change the shape of y to (n_samples, ), for example using ravel().\n",
      "  y = column_or_1d(y, warn=True)\n",
      "d:\\soft\\_env\\python36\\lib\\site-packages\\sklearn\\svm\\base.py:196: FutureWarning: The default value of gamma will change from 'auto' to 'scale' in version 0.22 to account better for unscaled features. Set gamma explicitly to 'auto' or 'scale' to avoid this warning.\n",
      "  \"avoid this warning.\", FutureWarning)\n"
     ]
    }
   ],
   "source": [
    "mx = mx_SVM(x_train.values,y_train.values)"
   ]
  },
  {
   "cell_type": "code",
   "execution_count": 5,
   "metadata": {},
   "outputs": [],
   "source": [
    "y_pred = mx.predict(x_test.values)\n",
    "df9['y_predsr'] = y_pred\n",
    "df9['y_test'] = y_test\n",
    "df9['y_pred'] = round(df9['y_predsr']).astype(int)"
   ]
  },
  {
   "cell_type": "code",
   "execution_count": 7,
   "metadata": {
    "scrolled": true
   },
   "outputs": [
    {
     "name": "stdout",
     "output_type": "stream",
     "text": [
      "     x1   x2   x3   x4  y_predsr  y_test  y_pred\n",
      "33  6.4  2.8  5.6  2.1         1       1       1\n",
      "34  5.8  2.8  5.1  2.4         1       1       1\n",
      "35  5.3  3.7  1.5  0.2         2       2       2\n",
      "36  5.5  2.3  4.0  1.3         3       3       3\n",
      "37  5.2  3.4  1.4  0.2         2       2       2\n"
     ]
    }
   ],
   "source": [
    "df9.to_csv(path+'demo7_3_result.csv',index=False)\n",
    "print(df9.tail())"
   ]
  }
 ],
 "metadata": {
  "kernelspec": {
   "display_name": "Python 3",
   "language": "python",
   "name": "python3"
  },
  "language_info": {
   "codemirror_mode": {
    "name": "ipython",
    "version": 3
   },
   "file_extension": ".py",
   "mimetype": "text/x-python",
   "name": "python",
   "nbconvert_exporter": "python",
   "pygments_lexer": "ipython3",
   "version": "3.6.6"
  }
 },
 "nbformat": 4,
 "nbformat_minor": 2
}
