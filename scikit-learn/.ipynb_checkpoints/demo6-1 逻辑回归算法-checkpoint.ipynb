{
 "cells": [
  {
   "cell_type": "code",
   "execution_count": 3,
   "metadata": {},
   "outputs": [],
   "source": [
    "import pandas as pd\n",
    "from sklearn.linear_model import LogisticRegression"
   ]
  },
  {
   "cell_type": "code",
   "execution_count": 7,
   "metadata": {},
   "outputs": [],
   "source": [
    "'''\n",
    "案例6-1是基于案例5-4线性回归算法，由于案例5-4是第一个假期学习案例，\n",
    "其中肯定不好冗余，本案例将对其优化\n",
    "'''\n",
    "path = 'tmp/iris_'\n",
    "\n",
    "x_train = pd.read_csv(path+'xtrain.csv',index_col=False)\n",
    "y_train = pd.read_csv(path+'ytrain.csv',index_col=False)\n",
    "x_test = pd.read_csv(path+'xtest.csv',index_col=False)\n",
    "y_test = pd.read_csv(path+'ytest.csv',index_col=False)\n",
    "df9 = x_test.copy()"
   ]
  },
  {
   "cell_type": "code",
   "execution_count": 4,
   "metadata": {},
   "outputs": [],
   "source": [
    "# 逻辑回归算法\n",
    "def mx_log(train_x,train_y):\n",
    "    mx = LogisticRegression(penalty='l2')\n",
    "    mx.fit(train_x,train_y)\n",
    "    return mx"
   ]
  },
  {
   "cell_type": "code",
   "execution_count": 5,
   "metadata": {
    "scrolled": true
   },
   "outputs": [
    {
     "name": "stderr",
     "output_type": "stream",
     "text": [
      "d:\\soft\\_env\\python36\\lib\\site-packages\\sklearn\\linear_model\\logistic.py:432: FutureWarning: Default solver will be changed to 'lbfgs' in 0.22. Specify a solver to silence this warning.\n",
      "  FutureWarning)\n",
      "d:\\soft\\_env\\python36\\lib\\site-packages\\sklearn\\utils\\validation.py:752: DataConversionWarning: A column-vector y was passed when a 1d array was expected. Please change the shape of y to (n_samples, ), for example using ravel().\n",
      "  y = column_or_1d(y, warn=True)\n",
      "d:\\soft\\_env\\python36\\lib\\site-packages\\sklearn\\linear_model\\logistic.py:459: FutureWarning: Default multi_class will be changed to 'auto' in 0.22. Specify the multi_class option to silence this warning.\n",
      "  \"this warning.\", FutureWarning)\n"
     ]
    }
   ],
   "source": [
    "mx = mx_log(x_train.values,y_train.values)"
   ]
  },
  {
   "cell_type": "code",
   "execution_count": 8,
   "metadata": {},
   "outputs": [],
   "source": [
    "y_pred = mx.predict(x_test.values)\n",
    "df9['y_predsr'] = y_pred\n",
    "df9['y_test'] = y_test\n",
    "df9['y_pred'] = round(df9['y_predsr']).astype(int)"
   ]
  },
  {
   "cell_type": "code",
   "execution_count": 9,
   "metadata": {},
   "outputs": [
    {
     "name": "stdout",
     "output_type": "stream",
     "text": [
      "     x1   x2   x3   x4  y_predsr  y_test  y_pred\n",
      "33  6.4  2.8  5.6  2.1         1       1       1\n",
      "34  5.8  2.8  5.1  2.4         1       1       1\n",
      "35  5.3  3.7  1.5  0.2         2       2       2\n",
      "36  5.5  2.3  4.0  1.3         3       3       3\n",
      "37  5.2  3.4  1.4  0.2         2       2       2\n"
     ]
    }
   ],
   "source": [
    "df9.to_csv(path+'demo6_1_result.csv',index=False)\n",
    "print(df9.tail())"
   ]
  }
 ],
 "metadata": {
  "kernelspec": {
   "display_name": "Python 3",
   "language": "python",
   "name": "python3"
  },
  "language_info": {
   "codemirror_mode": {
    "name": "ipython",
    "version": 3
   },
   "file_extension": ".py",
   "mimetype": "text/x-python",
   "name": "python",
   "nbconvert_exporter": "python",
   "pygments_lexer": "ipython3",
   "version": "3.6.6"
  }
 },
 "nbformat": 4,
 "nbformat_minor": 2
}
