{
 "cells": [
  {
   "cell_type": "code",
   "execution_count": 1,
   "metadata": {},
   "outputs": [],
   "source": [
    "import pandas as pd\n",
    "import api"
   ]
  },
  {
   "cell_type": "code",
   "execution_count": 2,
   "metadata": {},
   "outputs": [],
   "source": [
    "fsr0 = 'tmp/ccpp_'\n",
    "x_train, x_test, y_train, y_test = api.ai_dat_rd(fsr0)"
   ]
  },
  {
   "cell_type": "code",
   "execution_count": 3,
   "metadata": {},
   "outputs": [
    {
     "name": "stdout",
     "output_type": "stream",
     "text": [
      "      AT      V       AP     RH  y_test      y_pred      ysub     ysub2  \\\n",
      "0  17.80  43.72  1008.71  78.50     459  459.333058 -0.333058  0.333058   \n",
      "1  29.60  71.14  1011.46  52.69     431  433.924755 -2.924755  2.924755   \n",
      "2  11.06  36.71  1021.67  80.44     474  474.852710 -0.852710  0.852710   \n",
      "3  30.06  67.25  1017.63  53.59     435  434.206537  0.793463  0.793463   \n",
      "4  19.88  47.03  1012.27  91.99     456  452.572842  3.427158  3.427158   \n",
      "\n",
      "   y_test_div     ysubk  \n",
      "0       459.0  0.072562  \n",
      "1       431.0  0.678597  \n",
      "2       474.0  0.179897  \n",
      "3       435.0  0.182405  \n",
      "4       456.0  0.751570  \n",
      "acc-kok：99.96%，MAE:3.62,MSE:20.18,RMSE:4.49\n",
      "@mx:mx_sum,kok:99.96\n"
     ]
    }
   ],
   "source": [
    "funSgn = 'line'\n",
    "dacc,df9=api.mx_fun010(funSgn,x_train, x_test, y_train, y_test,5,False,fgDebug=True)"
   ]
  },
  {
   "cell_type": "code",
   "execution_count": 4,
   "metadata": {
    "scrolled": true
   },
   "outputs": [
    {
     "name": "stderr",
     "output_type": "stream",
     "text": [
      "d:\\soft\\_env\\python36\\lib\\site-packages\\sklearn\\linear_model\\logistic.py:432: FutureWarning: Default solver will be changed to 'lbfgs' in 0.22. Specify a solver to silence this warning.\n",
      "  FutureWarning)\n",
      "d:\\soft\\_env\\python36\\lib\\site-packages\\sklearn\\utils\\validation.py:752: DataConversionWarning: A column-vector y was passed when a 1d array was expected. Please change the shape of y to (n_samples, ), for example using ravel().\n",
      "  y = column_or_1d(y, warn=True)\n",
      "d:\\soft\\_env\\python36\\lib\\site-packages\\sklearn\\linear_model\\logistic.py:459: FutureWarning: Default multi_class will be changed to 'auto' in 0.22. Specify the multi_class option to silence this warning.\n",
      "  \"this warning.\", FutureWarning)\n"
     ]
    },
    {
     "name": "stdout",
     "output_type": "stream",
     "text": [
      "      AT      V       AP     RH  y_test  y_pred  ysub  ysub2  y_test_div  \\\n",
      "0  17.80  43.72  1008.71  78.50     459     466    -7      7       459.0   \n",
      "1  29.60  71.14  1011.46  52.69     431     436    -5      5       431.0   \n",
      "2  11.06  36.71  1021.67  80.44     474     474     0      0       474.0   \n",
      "3  30.06  67.25  1017.63  53.59     435     440    -5      5       435.0   \n",
      "4  19.88  47.03  1012.27  91.99     456     466   -10     10       456.0   \n",
      "\n",
      "      ysubk  \n",
      "0  1.525054  \n",
      "1  1.160093  \n",
      "2  0.000000  \n",
      "3  1.149425  \n",
      "4  2.192982  \n",
      "acc-kok：99.67%，MAE:5.04,MSE:42.68,RMSE:6.53\n",
      "@mx:mx_sum,kok:99.67\n"
     ]
    }
   ],
   "source": [
    "funSgn = 'log'\n",
    "dacc,df9=api.mx_fun010(funSgn,x_train, x_test, y_train, y_test,5,False,True)"
   ]
  }
 ],
 "metadata": {
  "kernelspec": {
   "display_name": "Python 3",
   "language": "python",
   "name": "python3"
  },
  "language_info": {
   "codemirror_mode": {
    "name": "ipython",
    "version": 3
   },
   "file_extension": ".py",
   "mimetype": "text/x-python",
   "name": "python",
   "nbconvert_exporter": "python",
   "pygments_lexer": "ipython3",
   "version": "3.6.6"
  }
 },
 "nbformat": 4,
 "nbformat_minor": 2
}
