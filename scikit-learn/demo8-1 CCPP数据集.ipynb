{
 "cells": [
  {
   "cell_type": "code",
   "execution_count": 1,
   "metadata": {},
   "outputs": [],
   "source": [
    "import pandas as pd"
   ]
  },
  {
   "cell_type": "code",
   "execution_count": 2,
   "metadata": {},
   "outputs": [],
   "source": [
    "df = pd.read_csv('data/ccpp.csv')"
   ]
  },
  {
   "cell_type": "code",
   "execution_count": 3,
   "metadata": {
    "scrolled": false
   },
   "outputs": [
    {
     "name": "stdout",
     "output_type": "stream",
     "text": [
      "         AT      V       AP     RH      PE\n",
      "9563  15.12  48.92  1011.80  72.93  462.59\n",
      "9564  33.41  77.95  1010.30  59.72  432.90\n",
      "9565  15.99  43.34  1014.20  78.66  465.96\n",
      "9566  17.65  59.87  1018.58  94.65  450.93\n",
      "9567  23.68  51.30  1011.86  71.24  451.67\n"
     ]
    }
   ],
   "source": [
    "print(df.tail())"
   ]
  },
  {
   "cell_type": "code",
   "execution_count": 10,
   "metadata": {},
   "outputs": [
    {
     "name": "stdout",
     "output_type": "stream",
     "text": [
      "         AT      V       AP     RH\n",
      "2895  29.39  71.14  1010.97  53.88\n",
      "7813  25.65  78.92  1010.83  86.56\n",
      "905   10.22  39.64  1010.72  63.05\n",
      "5192  20.32  44.60  1015.16  36.35\n",
      "235   17.37  41.23   998.79  68.44\n",
      "-------------\n",
      "2895    430.50\n",
      "7813    434.78\n",
      "905     477.22\n",
      "5192    460.21\n",
      "235     461.08\n",
      "Name: PE, dtype: float64\n",
      "-------------\n",
      "         AT      V       AP     RH\n",
      "3854  26.34  69.45  1013.87  54.15\n",
      "4785  25.06  64.63  1020.66  54.93\n",
      "6406   8.34  40.96  1023.28  89.45\n",
      "175   26.69  70.36  1006.82  68.29\n",
      "7687  17.46  53.29  1018.07  91.01\n",
      "-------------\n",
      "3854    438.50\n",
      "4785    446.57\n",
      "6406    483.92\n",
      "175     435.04\n",
      "7687    458.06\n",
      "Name: PE, dtype: float64\n"
     ]
    }
   ],
   "source": []
  },
  {
   "cell_type": "code",
   "execution_count": 12,
   "metadata": {
    "scrolled": true
   },
   "outputs": [
    {
     "name": "stdout",
     "output_type": "stream",
     "text": [
      "         AT      V       AP     RH\n",
      "7171  29.39  71.14  1010.97  53.88\n",
      "7172  25.65  78.92  1010.83  86.56\n",
      "7173  10.22  39.64  1010.72  63.05\n",
      "7174  20.32  44.60  1015.16  36.35\n",
      "7175  17.37  41.23   998.79  68.44\n",
      "-------------\n",
      "       PE\n",
      "7171  430\n",
      "7172  435\n",
      "7173  477\n",
      "7174  460\n",
      "7175  461\n",
      "-------------\n",
      "         AT      V       AP     RH\n",
      "2387  26.34  69.45  1013.87  54.15\n",
      "2388  25.06  64.63  1020.66  54.93\n",
      "2389   8.34  40.96  1023.28  89.45\n",
      "2390  26.69  70.36  1006.82  68.29\n",
      "2391  17.46  53.29  1018.07  91.01\n",
      "-------------\n",
      "       PE\n",
      "2387  438\n",
      "2388  447\n",
      "2389  484\n",
      "2390  435\n",
      "2391  458\n"
     ]
    }
   ],
   "source": [
    "x_train,x_test,y_train,y_test = ai_dat_rd(path,1,True)"
   ]
  }
 ],
 "metadata": {
  "kernelspec": {
   "display_name": "Python 3",
   "language": "python",
   "name": "python3"
  },
  "language_info": {
   "codemirror_mode": {
    "name": "ipython",
    "version": 3
   },
   "file_extension": ".py",
   "mimetype": "text/x-python",
   "name": "python",
   "nbconvert_exporter": "python",
   "pygments_lexer": "ipython3",
   "version": "3.6.6"
  }
 },
 "nbformat": 4,
 "nbformat_minor": 2
}
